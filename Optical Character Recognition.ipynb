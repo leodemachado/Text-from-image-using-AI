{
 "cells": [
  {
   "cell_type": "code",
   "execution_count": 1,
   "id": "15f00354",
   "metadata": {},
   "outputs": [
    {
     "name": "stdout",
     "output_type": "stream",
     "text": [
      "tesseract 4.1.1\n",
      " leptonica-1.78.0 (Apr  9 2021, 08:55:04) [MSC v.1916 LIB Release x64]\n",
      "  libjpeg 9d : libpng 1.6.37 : libtiff 4.3.0 : zlib 1.2.11\n",
      " Found AVX\n",
      " Found SSE\n",
      " Found libarchive 3.5.2 zlib/1.2.11 liblzma/5.2.5 bz2lib/1.0.8 liblz4/1.9.3 libzstd/1.5.0\n"
     ]
    }
   ],
   "source": [
    "!tesseract -v"
   ]
  },
  {
   "cell_type": "markdown",
   "id": "0c8a771d",
   "metadata": {},
   "source": [
    "### Investigating Tesseract flags:"
   ]
  },
  {
   "cell_type": "code",
   "execution_count": 2,
   "id": "dc0f6d8d",
   "metadata": {},
   "outputs": [
    {
     "name": "stdout",
     "output_type": "stream",
     "text": [
      "Usage:\n",
      "  tesseract --help | --help-extra | --version\n",
      "  tesseract --list-langs\n",
      "  tesseract imagename outputbase [options...] [configfile...]\n",
      "\n",
      "OCR options:\n",
      "  -l LANG[+LANG]        Specify language(s) used for OCR.\n",
      "NOTE: These options must occur before any configfile.\n",
      "\n",
      "Single options:\n",
      "  --help                Show this help message.\n",
      "  --help-extra          Show extra help for advanced users.\n",
      "  --version             Show version information.\n",
      "  --list-langs          List available languages for tesseract engine.\n"
     ]
    }
   ],
   "source": [
    "# \"-l\" this one is for language: \n",
    "# we will be using -l eng for english\n",
    "\n",
    "!tesseract --help-l"
   ]
  },
  {
   "cell_type": "code",
   "execution_count": 3,
   "id": "806ac535",
   "metadata": {},
   "outputs": [
    {
     "name": "stdout",
     "output_type": "stream",
     "text": [
      "OCR Engine modes:\n",
      "  0    Legacy engine only.\n",
      "  1    Neural nets LSTM engine only.\n",
      "  2    Legacy + LSTM engines.\n",
      "  3    Default, based on what is available.\n"
     ]
    }
   ],
   "source": [
    "# \"-oem\" is for OCR Engine Mode:  The base algorithm used\n",
    "# We will use -oem 1\n",
    "\n",
    "!tesseract --help-oem"
   ]
  },
  {
   "cell_type": "code",
   "execution_count": 4,
   "id": "8b96839f",
   "metadata": {},
   "outputs": [
    {
     "name": "stdout",
     "output_type": "stream",
     "text": [
      "Page segmentation modes:\n",
      "  0    Orientation and script detection (OSD) only.\n",
      "  1    Automatic page segmentation with OSD.\n",
      "  2    Automatic page segmentation, but no OSD, or OCR. (not implemented)\n",
      "  3    Fully automatic page segmentation, but no OSD. (Default)\n",
      "  4    Assume a single column of text of variable sizes.\n",
      "  5    Assume a single uniform block of vertically aligned text.\n",
      "  6    Assume a single uniform block of text.\n",
      "  7    Treat the image as a single text line.\n",
      "  8    Treat the image as a single word.\n",
      "  9    Treat the image as a single word in a circle.\n",
      " 10    Treat the image as a single character.\n",
      " 11    Sparse text. Find as much text as possible in no particular order.\n",
      " 12    Sparse text with OSD.\n",
      " 13    Raw line. Treat the image as a single text line,\n",
      "       bypassing hacks that are Tesseract-specific.\n"
     ]
    }
   ],
   "source": [
    "# \"-psm\" stands for page segmentation mode -> Means how the algortihm should perform\n",
    "# For OCR’ing text ROIs I’ve found that modes 6 and 7 work well, but if you’re OCR’ing large blocks of text then you may want to try 3 , the default mode.\n",
    "# Whenever you find yourself obtaining incorrect OCR results I highly recommend adjusting the --psm as it can have dramatic influences on your output OCR results.\n",
    "\n",
    "!tesseract --help-psm"
   ]
  },
  {
   "cell_type": "markdown",
   "id": "3ff0bfc0",
   "metadata": {},
   "source": [
    "### Tuto and Git"
   ]
  },
  {
   "cell_type": "markdown",
   "id": "3380c38e",
   "metadata": {},
   "source": [
    "https://www.pyimagesearch.com/2018/09/17/opencv-ocr-and-text-recognition-with-tesseract/"
   ]
  },
  {
   "cell_type": "markdown",
   "id": "9506644b",
   "metadata": {},
   "source": [
    "https://github.com/tesseract-ocr/tessdoc"
   ]
  },
  {
   "cell_type": "code",
   "execution_count": 1,
   "id": "1bb166f3",
   "metadata": {},
   "outputs": [],
   "source": [
    "from imutils.object_detection import non_max_suppression\n",
    "import numpy as np\n",
    "import pytesseract\n",
    "import argparse\n",
    "import cv2"
   ]
  },
  {
   "cell_type": "code",
   "execution_count": 2,
   "id": "0ac99ac6",
   "metadata": {},
   "outputs": [],
   "source": [
    "def decode_predictions(scores, geometry):\n",
    "    # grab the number of rows and columns from the scores volume, then\n",
    "    # initialize our set of bounding box rectangles and corresponding\n",
    "    # confidence scores\n",
    "    (numRows, numCols) = scores.shape[2:4]\n",
    "    rects = []\n",
    "    confidences = []\n",
    "    # loop over the number of rows\n",
    "    for y in range(0, numRows):\n",
    "        # extract the scores (probabilities), followed by the\n",
    "        # geometrical data used to derive potential bounding box\n",
    "        # coordinates that surround text\n",
    "        scoresData = scores[0, 0, y]\n",
    "        xData0 = geometry[0, 0, y]\n",
    "        xData1 = geometry[0, 1, y]\n",
    "        xData2 = geometry[0, 2, y]\n",
    "        xData3 = geometry[0, 3, y]\n",
    "        anglesData = geometry[0, 4, y]\n",
    "        # loop over the number of columns\n",
    "        for x in range(0, numCols):\n",
    "            # if our score does not have sufficient probability,\n",
    "            # ignore it\n",
    "            if scoresData[x] < args[\"min_confidence\"]:\n",
    "                continue\n",
    "            # compute the offset factor as our resulting feature\n",
    "            # maps will be 4x smaller than the input image\n",
    "            (offsetX, offsetY) = (x * 4.0, y * 4.0)\n",
    "            # extract the rotation angle for the prediction and\n",
    "            # then compute the sin and cosine\n",
    "            angle = anglesData[x]\n",
    "            cos = np.cos(angle)\n",
    "            sin = np.sin(angle)\n",
    "            # use the geometry volume to derive the width and height\n",
    "            # of the bounding box\n",
    "            h = xData0[x] + xData2[x]\n",
    "            w = xData1[x] + xData3[x]\n",
    "            # compute both the starting and ending (x, y)-coordinates\n",
    "            # for the text prediction bounding box\n",
    "            endX = int(offsetX + (cos * xData1[x]) + (sin * xData2[x]))\n",
    "            endY = int(offsetY - (sin * xData1[x]) + (cos * xData2[x]))\n",
    "            startX = int(endX - w)\n",
    "            startY = int(endY - h)\n",
    "            # add the bounding box coordinates and probability score\n",
    "            # to our respective lists\n",
    "            rects.append((startX, startY, endX, endY))\n",
    "            confidences.append(scoresData[x])\n",
    "    # return a tuple of the bounding boxes and associated confidences\n",
    "    return (rects, confidences)"
   ]
  },
  {
   "cell_type": "code",
   "execution_count": 3,
   "id": "9f552dcf",
   "metadata": {},
   "outputs": [
    {
     "name": "stderr",
     "output_type": "stream",
     "text": [
      "usage: ipykernel_launcher.py [-h] [-i IMAGE] [-east EAST] [-c MIN_CONFIDENCE]\n",
      "                             [-w WIDTH] [-e HEIGHT] [-p PADDING]\n",
      "ipykernel_launcher.py: error: unrecognized arguments: -f C:\\Users\\Leo\\AppData\\Roaming\\jupyter\\runtime\\kernel-a5f36293-ff47-4f27-81cd-d2d8eed6ae11.json\n"
     ]
    },
    {
     "ename": "SystemExit",
     "evalue": "2",
     "output_type": "error",
     "traceback": [
      "An exception has occurred, use %tb to see the full traceback.\n",
      "\u001b[1;31mSystemExit\u001b[0m\u001b[1;31m:\u001b[0m 2\n"
     ]
    },
    {
     "name": "stderr",
     "output_type": "stream",
     "text": [
      "C:\\Users\\Leo\\anaconda3\\envs\\OpenCV\\lib\\site-packages\\IPython\\core\\interactiveshell.py:3449: UserWarning: To exit: use 'exit', 'quit', or Ctrl-D.\n",
      "  warn(\"To exit: use 'exit', 'quit', or Ctrl-D.\", stacklevel=1)\n"
     ]
    }
   ],
   "source": [
    "# construct the argument parser and parse the arguments\n",
    "ap = argparse.ArgumentParser()\n",
    "ap.add_argument(\"-i\", \"--image\", type=str,\n",
    "    help=\"path to input image\")\n",
    "ap.add_argument(\"-east\", \"--east\", type=str,\n",
    "    help=\"path to input EAST text detector\")\n",
    "ap.add_argument(\"-c\", \"--min-confidence\", type=float, default=0.5,\n",
    "    help=\"minimum probability required to inspect a region\")\n",
    "ap.add_argument(\"-w\", \"--width\", type=int, default=320,\n",
    "    help=\"nearest multiple of 32 for resized width\")\n",
    "ap.add_argument(\"-e\", \"--height\", type=int, default=320,\n",
    "    help=\"nearest multiple of 32 for resized height\")\n",
    "ap.add_argument(\"-p\", \"--padding\", type=float, default=0.0,\n",
    "    help=\"amount of padding to add to each border of ROI\")\n",
    "args = vars(ap.parse_args())"
   ]
  },
  {
   "cell_type": "markdown",
   "id": "4cd38024",
   "metadata": {},
   "source": [
    "### The input parameters"
   ]
  },
  {
   "cell_type": "markdown",
   "id": "29fd5a1e",
   "metadata": {},
   "source": [
    "--image : The path to the input image\\\n",
    "--east : The path to the pre-trained EAST text detector.\\\n",
    "Optional:\\\n",
    "--min-confidence : The minimum probability of a detected text region\\\n",
    "--width : The width our image will be resized to prior to being passed through the EAST text detector. Our detector requires multiples of 32.\\\n",
    "--height : Same as the width, but for the height. Again, our detector requires multiple of 32 for resized height.\\\n",
    "--padding : The (optional) amount of padding to add to each ROI border. You might try values of 0.05 for 5% or 0.10 for 10% (and so on) if you find that your OCR result is incorrect.\\"
   ]
  },
  {
   "cell_type": "markdown",
   "id": "694a91b7",
   "metadata": {},
   "source": [
    "### Load image"
   ]
  },
  {
   "cell_type": "code",
   "execution_count": 4,
   "id": "4512d271",
   "metadata": {},
   "outputs": [
    {
     "ename": "NameError",
     "evalue": "name 'args' is not defined",
     "output_type": "error",
     "traceback": [
      "\u001b[1;31m---------------------------------------------------------------------------\u001b[0m",
      "\u001b[1;31mNameError\u001b[0m                                 Traceback (most recent call last)",
      "\u001b[1;32m~\\AppData\\Local\\Temp/ipykernel_11444/2263742275.py\u001b[0m in \u001b[0;36m<module>\u001b[1;34m\u001b[0m\n\u001b[0;32m      1\u001b[0m \u001b[1;31m# load the input image and grab the image dimensions\u001b[0m\u001b[1;33m\u001b[0m\u001b[1;33m\u001b[0m\u001b[1;33m\u001b[0m\u001b[0m\n\u001b[1;32m----> 2\u001b[1;33m \u001b[0mimage\u001b[0m \u001b[1;33m=\u001b[0m \u001b[0mcv2\u001b[0m\u001b[1;33m.\u001b[0m\u001b[0mimread\u001b[0m\u001b[1;33m(\u001b[0m\u001b[0margs\u001b[0m\u001b[1;33m[\u001b[0m\u001b[1;34m\"image\"\u001b[0m\u001b[1;33m]\u001b[0m\u001b[1;33m)\u001b[0m\u001b[1;33m\u001b[0m\u001b[1;33m\u001b[0m\u001b[0m\n\u001b[0m\u001b[0;32m      3\u001b[0m \u001b[0morig\u001b[0m \u001b[1;33m=\u001b[0m \u001b[0mimage\u001b[0m\u001b[1;33m.\u001b[0m\u001b[0mcopy\u001b[0m\u001b[1;33m(\u001b[0m\u001b[1;33m)\u001b[0m\u001b[1;33m\u001b[0m\u001b[1;33m\u001b[0m\u001b[0m\n\u001b[0;32m      4\u001b[0m \u001b[1;33m(\u001b[0m\u001b[0morigH\u001b[0m\u001b[1;33m,\u001b[0m \u001b[0morigW\u001b[0m\u001b[1;33m)\u001b[0m \u001b[1;33m=\u001b[0m \u001b[0mimage\u001b[0m\u001b[1;33m.\u001b[0m\u001b[0mshape\u001b[0m\u001b[1;33m[\u001b[0m\u001b[1;33m:\u001b[0m\u001b[1;36m2\u001b[0m\u001b[1;33m]\u001b[0m\u001b[1;33m\u001b[0m\u001b[1;33m\u001b[0m\u001b[0m\n\u001b[0;32m      5\u001b[0m \u001b[1;31m# set the new width and height and then determine the ratio in change\u001b[0m\u001b[1;33m\u001b[0m\u001b[1;33m\u001b[0m\u001b[1;33m\u001b[0m\u001b[0m\n",
      "\u001b[1;31mNameError\u001b[0m: name 'args' is not defined"
     ]
    }
   ],
   "source": [
    "# load the input image and grab the image dimensions\n",
    "image = cv2.imread(args[\"image\"])\n",
    "orig = image.copy()\n",
    "(origH, origW) = image.shape[:2]\n",
    "# set the new width and height and then determine the ratio in change\n",
    "# for both the width and height\n",
    "(newW, newH) = (args[\"width\"], args[\"height\"])\n",
    "rW = origW / float(newW)\n",
    "rH = origH / float(newH)\n",
    "# resize the image and grab the new image dimensions\n",
    "image = cv2.resize(image, (newW, newH))\n",
    "(H, W) = image.shape[:2]"
   ]
  },
  {
   "cell_type": "markdown",
   "id": "e9da4ca2",
   "metadata": {},
   "source": [
    "### Working with EAST text detector:"
   ]
  },
  {
   "cell_type": "code",
   "execution_count": null,
   "id": "7762f8df",
   "metadata": {},
   "outputs": [],
   "source": [
    "# define the two output layer names for the EAST detector model that\n",
    "# we are interested in -- the first is the output probabilities and the\n",
    "# second can be used to derive the bounding box coordinates of text\n",
    "layerNames = [\n",
    "    \"feature_fusion/Conv_7/Sigmoid\",\n",
    "    \"feature_fusion/concat_3\"]\n",
    "# load the pre-trained EAST text detector\n",
    "print(\"[INFO] loading EAST text detector...\")\n",
    "net = cv2.dnn.readNet(args[\"east\"])"
   ]
  },
  {
   "cell_type": "markdown",
   "id": "8f5d6970",
   "metadata": {},
   "source": [
    "### Text Detection: turning image into tensor (blob), passing through the net, catching best text boxes."
   ]
  },
  {
   "cell_type": "code",
   "execution_count": null,
   "id": "cc9af4e6",
   "metadata": {},
   "outputs": [],
   "source": [
    "# construct a blob from the image and then perform a forward pass of\n",
    "# the model to obtain the two output layer sets\n",
    "blob = cv2.dnn.blobFromImage(image, 1.0, (W, H),\n",
    "(123.68, 116.78, 103.94), swapRB=True, crop=False)\n",
    "net.setInput(blob)\n",
    "(scores, geometry) = net.forward(layerNames)\n",
    "# decode the predictions, then  apply non-maxima suppression to\n",
    "# suppress weak, overlapping bounding boxes\n",
    "(rects, confidences) = decode_predictions(scores, geometry)\n",
    "boxes = non_max_suppression(np.array(rects), probs=confidences)"
   ]
  },
  {
   "cell_type": "markdown",
   "id": "bda9e16c",
   "metadata": {},
   "source": [
    "### Extracting the found boxes regions from the original images"
   ]
  },
  {
   "cell_type": "code",
   "execution_count": null,
   "id": "05a16ea4",
   "metadata": {},
   "outputs": [],
   "source": [
    "# initialize the list of results\n",
    "results = []\n",
    "# loop over the bounding boxes\n",
    "for (startX, startY, endX, endY) in boxes:\n",
    "    # scale the bounding box coordinates based on the respective\n",
    "    # ratios\n",
    "    startX = int(startX * rW)\n",
    "    startY = int(startY * rH)\n",
    "    endX = int(endX * rW)\n",
    "    endY = int(endY * rH)\n",
    "    # in order to obtain a better OCR of the text we can potentially\n",
    "    # apply a bit of padding surrounding the bounding box -- here we\n",
    "    # are computing the deltas in both the x and y directions\n",
    "    dX = int((endX - startX) * args[\"padding\"])\n",
    "    dY = int((endY - startY) * args[\"padding\"])\n",
    "    # apply padding to each side of the bounding box, respectively\n",
    "    startX = max(0, startX - dX)\n",
    "    startY = max(0, startY - dY)\n",
    "    endX = min(origW, endX + (dX * 2))\n",
    "    endY = min(origH, endY + (dY * 2))\n",
    "    # extract the actual padded ROI\n",
    "    roi = orig[startY:endY, startX:endX]\n",
    "    \n",
    "    # Applying OCR text detection throwgh pytesseract\n",
    "    # in order to apply Tesseract v4 to OCR text we must supply\n",
    "    # (1) a language, (2) an OEM flag of 4, indicating that the we\n",
    "    # wish to use the LSTM neural net model for OCR, and finally\n",
    "    # (3) an OEM value, in this case, 7 which implies that we are\n",
    "    # treating the ROI as a single line of text\n",
    "    config = (\"-l eng --oem 1 --psm 7\")\n",
    "    text = pytesseract.image_to_string(roi, config=config)\n",
    "    # add the bounding box coordinates and OCR'd text to the list\n",
    "    # of results\n",
    "    results.append(((startX, startY, endX, endY), text))"
   ]
  },
  {
   "cell_type": "markdown",
   "id": "695f7848",
   "metadata": {},
   "source": [
    "### To print out the results"
   ]
  },
  {
   "cell_type": "code",
   "execution_count": null,
   "id": "b7b535aa",
   "metadata": {},
   "outputs": [],
   "source": [
    "# sort the results bounding box coordinates from top to bottom\n",
    "results = sorted(results, key=lambda r:r[0][1])\n",
    "# loop over the results\n",
    "for ((startX, startY, endX, endY), text) in results:\n",
    "    # display the text OCR'd by Tesseract\n",
    "    print(\"OCR TEXT\")\n",
    "    print(\"========\")\n",
    "    print(\"{}\\n\".format(text))\n",
    "    # strip out non-ASCII text so we can draw the text on the image\n",
    "    # using OpenCV, then draw the text and a bounding box surrounding\n",
    "    # the text region of the input image\n",
    "    text = \"\".join([c if ord(c) < 128 else \"\" for c in text]).strip()\n",
    "    output = orig.copy()\n",
    "    cv2.rectangle(output, (startX, startY), (endX, endY),\n",
    "        (0, 0, 255), 2)\n",
    "    cv2.putText(output, text, (startX, startY - 20),\n",
    "        cv2.FONT_HERSHEY_SIMPLEX, 1.2, (0, 0, 255), 3)\n",
    "    # show the output image\n",
    "    cv2.imshow(\"Text Detection\", output)\n",
    "    cv2.waitKey(0)"
   ]
  }
 ],
 "metadata": {
  "kernelspec": {
   "display_name": "Python 3 (ipykernel)",
   "language": "python",
   "name": "python3"
  },
  "language_info": {
   "codemirror_mode": {
    "name": "ipython",
    "version": 3
   },
   "file_extension": ".py",
   "mimetype": "text/x-python",
   "name": "python",
   "nbconvert_exporter": "python",
   "pygments_lexer": "ipython3",
   "version": "3.8.11"
  }
 },
 "nbformat": 4,
 "nbformat_minor": 5
}
